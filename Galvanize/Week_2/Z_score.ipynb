{
 "cells": [
  {
   "cell_type": "code",
   "execution_count": 1,
   "metadata": {},
   "outputs": [],
   "source": [
    "import numpy as np\n",
    "np.random.seed(42)\n",
    "keg_list = np.random.normal(15.4, .2, 120)"
   ]
  },
  {
   "cell_type": "code",
   "execution_count": 10,
   "metadata": {},
   "outputs": [
    {
     "data": {
      "text/plain": [
       "Ttest_1sampResult(statistic=-6.856548820846662, pvalue=3.3516828482701653e-10)"
      ]
     },
     "execution_count": 10,
     "metadata": {},
     "output_type": "execute_result"
    }
   ],
   "source": [
    "import scipy.stats\n",
    "scipy.stats.ttest_1samp(keg_list, 15.5)"
   ]
  },
  {
   "cell_type": "code",
   "execution_count": 9,
   "metadata": {},
   "outputs": [
    {
     "ename": "TypeError",
     "evalue": "tuple indices must be integers or slices, not float",
     "output_type": "error",
     "traceback": [
      "\u001b[0;31m---------------------------------------------------------------------------\u001b[0m",
      "\u001b[0;31mTypeError\u001b[0m                                 Traceback (most recent call last)",
      "\u001b[0;32m<ipython-input-9-523e036acaa8>\u001b[0m in \u001b[0;36m<module>\u001b[0;34m()\u001b[0m\n\u001b[0;32m----> 1\u001b[0;31m \u001b[0mscipy\u001b[0m\u001b[0;34m.\u001b[0m\u001b[0mstats\u001b[0m\u001b[0;34m.\u001b[0m\u001b[0mzscore\u001b[0m\u001b[0;34m(\u001b[0m\u001b[0mkeg_list\u001b[0m\u001b[0;34m,\u001b[0m \u001b[0;36m15.5\u001b[0m\u001b[0;34m)\u001b[0m\u001b[0;34m\u001b[0m\u001b[0m\n\u001b[0m",
      "\u001b[0;32m~/anaconda3/lib/python3.6/site-packages/scipy/stats/stats.py\u001b[0m in \u001b[0;36mzscore\u001b[0;34m(a, axis, ddof)\u001b[0m\n\u001b[1;32m   2240\u001b[0m     \"\"\"\n\u001b[1;32m   2241\u001b[0m     \u001b[0ma\u001b[0m \u001b[0;34m=\u001b[0m \u001b[0mnp\u001b[0m\u001b[0;34m.\u001b[0m\u001b[0masanyarray\u001b[0m\u001b[0;34m(\u001b[0m\u001b[0ma\u001b[0m\u001b[0;34m)\u001b[0m\u001b[0;34m\u001b[0m\u001b[0m\n\u001b[0;32m-> 2242\u001b[0;31m     \u001b[0mmns\u001b[0m \u001b[0;34m=\u001b[0m \u001b[0ma\u001b[0m\u001b[0;34m.\u001b[0m\u001b[0mmean\u001b[0m\u001b[0;34m(\u001b[0m\u001b[0maxis\u001b[0m\u001b[0;34m=\u001b[0m\u001b[0maxis\u001b[0m\u001b[0;34m)\u001b[0m\u001b[0;34m\u001b[0m\u001b[0m\n\u001b[0m\u001b[1;32m   2243\u001b[0m     \u001b[0msstd\u001b[0m \u001b[0;34m=\u001b[0m \u001b[0ma\u001b[0m\u001b[0;34m.\u001b[0m\u001b[0mstd\u001b[0m\u001b[0;34m(\u001b[0m\u001b[0maxis\u001b[0m\u001b[0;34m=\u001b[0m\u001b[0maxis\u001b[0m\u001b[0;34m,\u001b[0m \u001b[0mddof\u001b[0m\u001b[0;34m=\u001b[0m\u001b[0mddof\u001b[0m\u001b[0;34m)\u001b[0m\u001b[0;34m\u001b[0m\u001b[0m\n\u001b[1;32m   2244\u001b[0m     \u001b[0;32mif\u001b[0m \u001b[0maxis\u001b[0m \u001b[0;32mand\u001b[0m \u001b[0mmns\u001b[0m\u001b[0;34m.\u001b[0m\u001b[0mndim\u001b[0m \u001b[0;34m<\u001b[0m \u001b[0ma\u001b[0m\u001b[0;34m.\u001b[0m\u001b[0mndim\u001b[0m\u001b[0;34m:\u001b[0m\u001b[0;34m\u001b[0m\u001b[0m\n",
      "\u001b[0;32m~/anaconda3/lib/python3.6/site-packages/numpy/core/_methods.py\u001b[0m in \u001b[0;36m_mean\u001b[0;34m(a, axis, dtype, out, keepdims)\u001b[0m\n\u001b[1;32m     55\u001b[0m \u001b[0;34m\u001b[0m\u001b[0m\n\u001b[1;32m     56\u001b[0m     \u001b[0mis_float16_result\u001b[0m \u001b[0;34m=\u001b[0m \u001b[0;32mFalse\u001b[0m\u001b[0;34m\u001b[0m\u001b[0m\n\u001b[0;32m---> 57\u001b[0;31m     \u001b[0mrcount\u001b[0m \u001b[0;34m=\u001b[0m \u001b[0m_count_reduce_items\u001b[0m\u001b[0;34m(\u001b[0m\u001b[0marr\u001b[0m\u001b[0;34m,\u001b[0m \u001b[0maxis\u001b[0m\u001b[0;34m)\u001b[0m\u001b[0;34m\u001b[0m\u001b[0m\n\u001b[0m\u001b[1;32m     58\u001b[0m     \u001b[0;31m# Make this warning show up first\u001b[0m\u001b[0;34m\u001b[0m\u001b[0;34m\u001b[0m\u001b[0m\n\u001b[1;32m     59\u001b[0m     \u001b[0;32mif\u001b[0m \u001b[0mrcount\u001b[0m \u001b[0;34m==\u001b[0m \u001b[0;36m0\u001b[0m\u001b[0;34m:\u001b[0m\u001b[0;34m\u001b[0m\u001b[0m\n",
      "\u001b[0;32m~/anaconda3/lib/python3.6/site-packages/numpy/core/_methods.py\u001b[0m in \u001b[0;36m_count_reduce_items\u001b[0;34m(arr, axis)\u001b[0m\n\u001b[1;32m     48\u001b[0m     \u001b[0mitems\u001b[0m \u001b[0;34m=\u001b[0m \u001b[0;36m1\u001b[0m\u001b[0;34m\u001b[0m\u001b[0m\n\u001b[1;32m     49\u001b[0m     \u001b[0;32mfor\u001b[0m \u001b[0max\u001b[0m \u001b[0;32min\u001b[0m \u001b[0maxis\u001b[0m\u001b[0;34m:\u001b[0m\u001b[0;34m\u001b[0m\u001b[0m\n\u001b[0;32m---> 50\u001b[0;31m         \u001b[0mitems\u001b[0m \u001b[0;34m*=\u001b[0m \u001b[0marr\u001b[0m\u001b[0;34m.\u001b[0m\u001b[0mshape\u001b[0m\u001b[0;34m[\u001b[0m\u001b[0max\u001b[0m\u001b[0;34m]\u001b[0m\u001b[0;34m\u001b[0m\u001b[0m\n\u001b[0m\u001b[1;32m     51\u001b[0m     \u001b[0;32mreturn\u001b[0m \u001b[0mitems\u001b[0m\u001b[0;34m\u001b[0m\u001b[0m\n\u001b[1;32m     52\u001b[0m \u001b[0;34m\u001b[0m\u001b[0m\n",
      "\u001b[0;31mTypeError\u001b[0m: tuple indices must be integers or slices, not float"
     ]
    }
   ],
   "source": []
  },
  {
   "cell_type": "code",
   "execution_count": null,
   "metadata": {},
   "outputs": [],
   "source": []
  },
  {
   "cell_type": "code",
   "execution_count": 23,
   "metadata": {},
   "outputs": [],
   "source": [
    "import pandas as pd\n",
    "import numpy as pd\n",
    "import scipy.stats"
   ]
  },
  {
   "cell_type": "code",
   "execution_count": 7,
   "metadata": {},
   "outputs": [],
   "source": [
    "visitors = pd.Series([998832,1012285,995750],index =['LP1', 'LP2', 'LP3'])"
   ]
  },
  {
   "cell_type": "code",
   "execution_count": 8,
   "metadata": {},
   "outputs": [],
   "source": [
    "registrations = pd.Series([331912,349643,320432], index=['LP1', 'LP2', 'LP3'])"
   ]
  },
  {
   "cell_type": "code",
   "execution_count": 9,
   "metadata": {},
   "outputs": [],
   "source": [
    "purchases = pd.Series([18255,18531,18585], index = ['LP1','LP2','LP3'])"
   ]
  },
  {
   "cell_type": "code",
   "execution_count": 10,
   "metadata": {},
   "outputs": [],
   "source": [
    "d = {'Visitors':visitors, 'Registrations':registrations, 'Purchases':purchases}"
   ]
  },
  {
   "cell_type": "code",
   "execution_count": 12,
   "metadata": {},
   "outputs": [],
   "source": [
    "df = pd.DataFrame(d)"
   ]
  },
  {
   "cell_type": "code",
   "execution_count": 13,
   "metadata": {},
   "outputs": [
    {
     "data": {
      "text/html": [
       "<div>\n",
       "<style scoped>\n",
       "    .dataframe tbody tr th:only-of-type {\n",
       "        vertical-align: middle;\n",
       "    }\n",
       "\n",
       "    .dataframe tbody tr th {\n",
       "        vertical-align: top;\n",
       "    }\n",
       "\n",
       "    .dataframe thead th {\n",
       "        text-align: right;\n",
       "    }\n",
       "</style>\n",
       "<table border=\"1\" class=\"dataframe\">\n",
       "  <thead>\n",
       "    <tr style=\"text-align: right;\">\n",
       "      <th></th>\n",
       "      <th>Purchases</th>\n",
       "      <th>Registrations</th>\n",
       "      <th>Visitors</th>\n",
       "    </tr>\n",
       "  </thead>\n",
       "  <tbody>\n",
       "    <tr>\n",
       "      <th>LP1</th>\n",
       "      <td>18255</td>\n",
       "      <td>331912</td>\n",
       "      <td>998832</td>\n",
       "    </tr>\n",
       "    <tr>\n",
       "      <th>LP2</th>\n",
       "      <td>18531</td>\n",
       "      <td>349643</td>\n",
       "      <td>1012285</td>\n",
       "    </tr>\n",
       "    <tr>\n",
       "      <th>LP3</th>\n",
       "      <td>18585</td>\n",
       "      <td>320432</td>\n",
       "      <td>995750</td>\n",
       "    </tr>\n",
       "  </tbody>\n",
       "</table>\n",
       "</div>"
      ],
      "text/plain": [
       "     Purchases  Registrations  Visitors\n",
       "LP1      18255         331912    998832\n",
       "LP2      18531         349643   1012285\n",
       "LP3      18585         320432    995750"
      ]
     },
     "execution_count": 13,
     "metadata": {},
     "output_type": "execute_result"
    }
   ],
   "source": [
    "df.head()"
   ]
  },
  {
   "cell_type": "code",
   "execution_count": 17,
   "metadata": {},
   "outputs": [],
   "source": [
    "df['Reg_Purchase'] = df['Purchases'] / df['Registrations']"
   ]
  },
  {
   "cell_type": "code",
   "execution_count": 25,
   "metadata": {},
   "outputs": [],
   "source": [
    "df['Vis_reg'] = df['Registrations'] / df['Visitors']"
   ]
  },
  {
   "cell_type": "code",
   "execution_count": 26,
   "metadata": {},
   "outputs": [
    {
     "data": {
      "text/html": [
       "<div>\n",
       "<style scoped>\n",
       "    .dataframe tbody tr th:only-of-type {\n",
       "        vertical-align: middle;\n",
       "    }\n",
       "\n",
       "    .dataframe tbody tr th {\n",
       "        vertical-align: top;\n",
       "    }\n",
       "\n",
       "    .dataframe thead th {\n",
       "        text-align: right;\n",
       "    }\n",
       "</style>\n",
       "<table border=\"1\" class=\"dataframe\">\n",
       "  <thead>\n",
       "    <tr style=\"text-align: right;\">\n",
       "      <th></th>\n",
       "      <th>Purchases</th>\n",
       "      <th>Registrations</th>\n",
       "      <th>Visitors</th>\n",
       "      <th>Reg_Purchase</th>\n",
       "      <th>Vis_purchase</th>\n",
       "      <th>Vis_reg</th>\n",
       "    </tr>\n",
       "  </thead>\n",
       "  <tbody>\n",
       "    <tr>\n",
       "      <th>LP1</th>\n",
       "      <td>18255</td>\n",
       "      <td>331912</td>\n",
       "      <td>998832</td>\n",
       "      <td>0.055</td>\n",
       "      <td>0.018276</td>\n",
       "      <td>0.3323</td>\n",
       "    </tr>\n",
       "    <tr>\n",
       "      <th>LP2</th>\n",
       "      <td>18531</td>\n",
       "      <td>349643</td>\n",
       "      <td>1012285</td>\n",
       "      <td>0.053</td>\n",
       "      <td>0.018306</td>\n",
       "      <td>0.3454</td>\n",
       "    </tr>\n",
       "    <tr>\n",
       "      <th>LP3</th>\n",
       "      <td>18585</td>\n",
       "      <td>320432</td>\n",
       "      <td>995750</td>\n",
       "      <td>0.058</td>\n",
       "      <td>0.018664</td>\n",
       "      <td>0.3218</td>\n",
       "    </tr>\n",
       "  </tbody>\n",
       "</table>\n",
       "</div>"
      ],
      "text/plain": [
       "     Purchases  Registrations  Visitors  Reg_Purchase  Vis_purchase  Vis_reg\n",
       "LP1      18255         331912    998832         0.055      0.018276   0.3323\n",
       "LP2      18531         349643   1012285         0.053      0.018306   0.3454\n",
       "LP3      18585         320432    995750         0.058      0.018664   0.3218"
      ]
     },
     "execution_count": 26,
     "metadata": {},
     "output_type": "execute_result"
    }
   ],
   "source": [
    "df.head()"
   ]
  },
  {
   "cell_type": "code",
   "execution_count": 30,
   "metadata": {},
   "outputs": [
    {
     "name": "stdout",
     "output_type": "stream",
     "text": [
      "LP1\n",
      "LP2\n",
      "LP3\n"
     ]
    }
   ],
   "source": [
    "pages = df.index\n",
    "reg_pur = []\n",
    "vis_reg = []\n",
    "for x in pages:\n",
    "    scipy.stats.ttest_ind()"
   ]
  },
  {
   "cell_type": "code",
   "execution_count": 28,
   "metadata": {},
   "outputs": [
    {
     "data": {
      "text/plain": [
       "Index(['LP1', 'LP2', 'LP3'], dtype='object')"
      ]
     },
     "execution_count": 28,
     "metadata": {},
     "output_type": "execute_result"
    }
   ],
   "source": []
  },
  {
   "cell_type": "code",
   "execution_count": null,
   "metadata": {},
   "outputs": [],
   "source": []
  },
  {
   "cell_type": "code",
   "execution_count": null,
   "metadata": {},
   "outputs": [],
   "source": []
  },
  {
   "cell_type": "code",
   "execution_count": 1,
   "metadata": {},
   "outputs": [],
   "source": [
    "##1 determin Null hypothisis\n",
    "## determin signifigance value - the alpha (ciritical value)\n",
    "## determin test\n",
    "##calculate p value\n",
    "## decide if to reject\n",
    "\n",
    "##Two sample test statistic\n",
    "\n",
    "##The means of populations will follow a normal distribution according to central limit theorm\n",
    "\n",
    "##Issue with running multiple t tests- our signifigance level actually increases expodentially\n",
    "#to correct we could us bonforoni\n",
    "\n",
    "#Chi -2 comparing data to expected outcome.\n",
    "\n",
    "## p value is the probability of a given result\n",
    "##Type 1 is regjecting the null incorrectly, Type two is failure to reject the null correctly\n"
   ]
  },
  {
   "cell_type": "code",
   "execution_count": 4,
   "metadata": {},
   "outputs": [
    {
     "name": "stdout",
     "output_type": "stream",
     "text": [
      "(-0.0020835507691098773, 0.00608303854763942)\n",
      "(0.0008626825400698604, 0.009137419821291841)\n",
      "(-0.007165819892189884, 0.001165205309357725)\n",
      "(-0.014697755707746939, -0.011501518997602501)\n",
      "(-0.025193393383697495, -0.02200683740496537)\n",
      "(0.008910005214849689, 0.012090950868463738)\n"
     ]
    }
   ],
   "source": [
    "import numpy as np\n",
    "import scipy.stats as scs\n",
    "\n",
    "# visitors, registrations, purchases\n",
    "lp1 = np.array([998832.,331912.,18255.])\n",
    "lp2 = np.array([1012285.,349643.,18531.])\n",
    "lp3 = np.array([995750.,320432.,18585.])\n",
    "\n",
    "# Knowing when (and for how long) the data were \n",
    "# taken and how the visitors got to the website is also important \n",
    "# information for a thorough analysis.\n",
    "\n",
    "# With this solution the following assumputions hold:\n",
    "# We want to assume that individuals are independent of one another.\n",
    "# We also want to assume that registers can only happen from visitors.  \n",
    "# As well as, a purchase can only occur from an individual that is registered\n",
    "\n",
    "def z_score_for_prop(lpA, lpB, visreg = True):\n",
    "    '''Calculate the z score for two proportions where the\n",
    "    null hypothesis is that the two proportions are equal,\n",
    "    ie. p1 - p2 = 0. '''\n",
    "    if visreg == True: #calc whether the difference in the \n",
    "        # registration to visitor proportion is significant\n",
    "        total_prop = (lpA[1] + lpB[1]) / (lpA[0] + lpB[0])\n",
    "        upper = ((lpA[1]/lpA[0]) - (lpB[1]/lpB[0])) + np.abs(scs.norm.ppf(.05/6))*((total_prop) * (1-total_prop)*(1 / lpA[0] + 1 / lpB[0]))**0.5\n",
    "        lower = ((lpA[1]/lpA[0]) - (lpB[1]/lpB[0])) - np.abs(scs.norm.ppf(.05/6))*((total_prop) * (1-total_prop)*(1 / lpA[0] + 1 / lpB[0]))**0.5\n",
    "    else: # calc whether the difference in the \n",
    "        # purchase to reg proportion is significant\n",
    "        total_prop = (lpA[2] + lpB[2]) / (lpA[1] + lpB[1])\n",
    "        upper = ((lpA[2]/lpA[1]) - (lpB[2]/lpB[1])) + np.abs(scs.norm.ppf(.05/6))*((total_prop) * (1-total_prop)*(1 / lpA[1] + 1 / lpB[2]))**0.5 \n",
    "        lower = ((lpA[2]/lpA[1]) - (lpB[2]/lpB[1])) - np.abs(scs.norm.ppf(.05/6))*((total_prop) * (1-total_prop)*(1 / lpA[1] + 1 / lpB[2]))**0.5 \n",
    "    return lower, upper\n",
    "\n",
    "# We are performing 3 choose 2 tests: 3 tests, but for vis to reg and reg to pay is 3*2 = 6\n",
    "# total tests.  The z-value above is for the bonferroni correction of the \n",
    "# number of tests we are computing values for.  That is .05/15 as our Type I Error rate.\n",
    "\n",
    "print(z_score_for_prop(lp1, lp2, visreg = False)) #Not Different\n",
    "print(z_score_for_prop(lp3, lp2, visreg = False)) #3 is higher than 2\n",
    "print(z_score_for_prop(lp1, lp3, visreg = False)) #Not Different\n",
    "\n",
    "print(z_score_for_prop(lp1, lp2)) #2 is higher than 1\n",
    "print(z_score_for_prop(lp3, lp2)) #2 is higher than 3\n",
    "print(z_score_for_prop(lp1, lp3)) #1 is higher than 3\n",
    "\n",
    "# Based on these results, we would suggest page 2 for moving from vist to register\n",
    "# We would also suggest either 3 or 1 form moving from register to pay.  There\n",
    "# is no statistical difference between 3 and 1 in terms of moving from registered\n",
    "# to paying.  We see that 3 is significantly higher than 2, but 1 is not.  \n",
    "# More visitors may allow us to truly differentiate between 1 and 3.  At this \n",
    "# point is suggestive that 3 might be higher, but this is not statistically \n",
    "# significant at this point. We might also use a bayesian method using a uniform prior\n",
    "# and computing the posterior based on the resulting beta distribution.\n"
   ]
  },
  {
   "cell_type": "code",
   "execution_count": 6,
   "metadata": {},
   "outputs": [
    {
     "data": {
      "text/plain": [
       "0.008333333333333333"
      ]
     },
     "execution_count": 6,
     "metadata": {},
     "output_type": "execute_result"
    }
   ],
   "source": [
    ".05/6"
   ]
  },
  {
   "cell_type": "code",
   "execution_count": null,
   "metadata": {},
   "outputs": [],
   "source": []
  }
 ],
 "metadata": {
  "kernelspec": {
   "display_name": "Python 3",
   "language": "python",
   "name": "python3"
  },
  "language_info": {
   "codemirror_mode": {
    "name": "ipython",
    "version": 3
   },
   "file_extension": ".py",
   "mimetype": "text/x-python",
   "name": "python",
   "nbconvert_exporter": "python",
   "pygments_lexer": "ipython3",
   "version": "3.6.4"
  }
 },
 "nbformat": 4,
 "nbformat_minor": 2
}
